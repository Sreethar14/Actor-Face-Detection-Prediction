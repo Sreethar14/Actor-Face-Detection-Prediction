{
 "cells": [
  {
   "cell_type": "code",
   "execution_count": 1,
   "id": "a012f659-d149-4953-af43-42de36e8c5a7",
   "metadata": {},
   "outputs": [],
   "source": [
    "from ultralytics import YOLO\n",
    "from ultralytics.yolo.v8.detect.predict import DetectionPredictor"
   ]
  },
  {
   "cell_type": "code",
   "execution_count": 2,
   "id": "d75f7576-e3ec-4f39-8b82-f54caea8e63a",
   "metadata": {},
   "outputs": [],
   "source": [
    "import cv2"
   ]
  },
  {
   "cell_type": "code",
   "execution_count": 3,
   "id": "2d6bae7d-ce58-49d8-a649-75dd0f9b6615",
   "metadata": {},
   "outputs": [],
   "source": [
    "model = YOLO(\"yolov8n-face.pt\")"
   ]
  },
  {
   "cell_type": "code",
   "execution_count": 4,
   "id": "9a0fa5ab-36a8-48ca-a425-7bac9e2ac488",
   "metadata": {},
   "outputs": [
    {
     "name": "stderr",
     "output_type": "stream",
     "text": [
      "Ultralytics YOLOv8.0.20  Python-3.10.0 torch-2.3.1+cpu CPU\n",
      "Model summary (fused): 168 layers, 3005843 parameters, 0 gradients, 8.1 GFLOPs\n"
     ]
    },
    {
     "name": "stdout",
     "output_type": "stream",
     "text": [
      "[Ultralytics YOLO <class 'ultralytics.yolo.engine.results.Boxes'> masks\n",
      "type: <class 'torch.Tensor'>\n",
      "shape: torch.Size([16, 6])\n",
      "dtype: torch.float32\n",
      " + tensor([[6.10000e+01, 2.30000e+01, 1.49000e+02, 1.37000e+02, 8.26744e-01, 0.00000e+00],\n",
      "        [3.15000e+02, 2.30000e+01, 3.96000e+02, 1.44000e+02, 8.11907e-01, 0.00000e+00],\n",
      "        [1.87000e+02, 1.87000e+02, 2.57000e+02, 2.81000e+02, 8.02358e-01, 0.00000e+00],\n",
      "        [5.96000e+02, 2.60000e+01, 6.81000e+02, 1.41000e+02, 7.93622e-01, 0.00000e+00],\n",
      "        [5.80000e+01, 1.73000e+02, 1.28000e+02, 2.75000e+02, 7.86305e-01, 0.00000e+00],\n",
      "        [4.63000e+02, 1.70000e+02, 5.45000e+02, 2.85000e+02, 7.85883e-01, 0.00000e+00],\n",
      "        [4.70000e+01, 3.11000e+02, 1.28000e+02, 4.21000e+02, 7.83779e-01, 0.00000e+00],\n",
      "        [2.02000e+02, 4.10000e+01, 2.71000e+02, 1.38000e+02, 7.79933e-01, 0.00000e+00],\n",
      "        [4.70000e+02, 2.70000e+01, 5.43000e+02, 1.34000e+02, 7.68879e-01, 0.00000e+00],\n",
      "        [5.89000e+02, 1.88000e+02, 6.63000e+02, 2.83000e+02, 7.62454e-01, 0.00000e+00],\n",
      "        [6.18000e+02, 3.06000e+02, 7.00000e+02, 4.29000e+02, 7.61362e-01, 0.00000e+00],\n",
      "        [3.32000e+02, 1.80000e+02, 3.96000e+02, 2.75000e+02, 7.61155e-01, 0.00000e+00],\n",
      "        [1.76000e+02, 3.14000e+02, 2.74000e+02, 4.30000e+02, 7.59781e-01, 0.00000e+00],\n",
      "        [4.56000e+02, 3.06000e+02, 5.56000e+02, 4.22000e+02, 7.56941e-01, 0.00000e+00],\n",
      "        [3.19000e+02, 3.05000e+02, 3.99000e+02, 4.21000e+02, 7.49501e-01, 0.00000e+00],\n",
      "        [7.12000e+02, 2.70000e+01, 7.28000e+02, 1.63000e+02, 3.16850e-01, 0.00000e+00]])]\n"
     ]
    }
   ],
   "source": [
    "results = model.predict(source=\"C:\\\\Users\\\\sreet\\OneDrive\\\\Documents\\\\Hope AI\\\\16.Deep Learning\\\\Actor Detection\\\\database\", show=True)\n",
    "print(results)"
   ]
  },
  {
   "cell_type": "code",
   "execution_count": null,
   "id": "5243f5c2-d9c6-4f0f-a251-f9b2ec6edfa6",
   "metadata": {},
   "outputs": [],
   "source": []
  }
 ],
 "metadata": {
  "kernelspec": {
   "display_name": "Python 3 (ipykernel)",
   "language": "python",
   "name": "python3"
  },
  "language_info": {
   "codemirror_mode": {
    "name": "ipython",
    "version": 3
   },
   "file_extension": ".py",
   "mimetype": "text/x-python",
   "name": "python",
   "nbconvert_exporter": "python",
   "pygments_lexer": "ipython3",
   "version": "3.10.0"
  }
 },
 "nbformat": 4,
 "nbformat_minor": 5
}
